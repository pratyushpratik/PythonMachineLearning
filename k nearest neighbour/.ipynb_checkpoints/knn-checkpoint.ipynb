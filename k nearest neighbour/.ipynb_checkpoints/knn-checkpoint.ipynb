{
 "cells": [
  {
   "cell_type": "code",
   "execution_count": 1,
   "metadata": {},
   "outputs": [
    {
     "name": "stdout",
     "output_type": "stream",
     "text": [
      "['knn.ipynb', '.ipynb_checkpoints', 'Social_Network_Ads.csv']\n"
     ]
    }
   ],
   "source": [
    "import os\n",
    "print(os.listdir())"
   ]
  },
  {
   "cell_type": "code",
   "execution_count": 2,
   "metadata": {},
   "outputs": [],
   "source": [
    "#import libraries\n",
    "import numpy as np\n",
    "import pandas as pd\n",
    "import matplotlib.pyplot as plt"
   ]
  },
  {
   "cell_type": "code",
   "execution_count": 3,
   "metadata": {},
   "outputs": [],
   "source": [
    "data = pd.read_csv('Social_Network_Ads.csv')"
   ]
  },
  {
   "cell_type": "code",
   "execution_count": 4,
   "metadata": {},
   "outputs": [
    {
     "name": "stdout",
     "output_type": "stream",
     "text": [
      "<class 'pandas.core.frame.DataFrame'>\n",
      "RangeIndex: 400 entries, 0 to 399\n",
      "Data columns (total 5 columns):\n",
      "User ID            400 non-null int64\n",
      "Gender             400 non-null object\n",
      "Age                400 non-null int64\n",
      "EstimatedSalary    400 non-null int64\n",
      "Purchased          400 non-null int64\n",
      "dtypes: int64(4), object(1)\n",
      "memory usage: 15.7+ KB\n"
     ]
    }
   ],
   "source": [
    "data.info()"
   ]
  },
  {
   "cell_type": "code",
   "execution_count": 5,
   "metadata": {},
   "outputs": [
    {
     "data": {
      "text/html": [
       "<div>\n",
       "<style scoped>\n",
       "    .dataframe tbody tr th:only-of-type {\n",
       "        vertical-align: middle;\n",
       "    }\n",
       "\n",
       "    .dataframe tbody tr th {\n",
       "        vertical-align: top;\n",
       "    }\n",
       "\n",
       "    .dataframe thead th {\n",
       "        text-align: right;\n",
       "    }\n",
       "</style>\n",
       "<table border=\"1\" class=\"dataframe\">\n",
       "  <thead>\n",
       "    <tr style=\"text-align: right;\">\n",
       "      <th></th>\n",
       "      <th>User ID</th>\n",
       "      <th>Gender</th>\n",
       "      <th>Age</th>\n",
       "      <th>EstimatedSalary</th>\n",
       "      <th>Purchased</th>\n",
       "    </tr>\n",
       "  </thead>\n",
       "  <tbody>\n",
       "    <tr>\n",
       "      <th>0</th>\n",
       "      <td>15624510</td>\n",
       "      <td>Male</td>\n",
       "      <td>19</td>\n",
       "      <td>19000</td>\n",
       "      <td>0</td>\n",
       "    </tr>\n",
       "    <tr>\n",
       "      <th>1</th>\n",
       "      <td>15810944</td>\n",
       "      <td>Male</td>\n",
       "      <td>35</td>\n",
       "      <td>20000</td>\n",
       "      <td>0</td>\n",
       "    </tr>\n",
       "    <tr>\n",
       "      <th>2</th>\n",
       "      <td>15668575</td>\n",
       "      <td>Female</td>\n",
       "      <td>26</td>\n",
       "      <td>43000</td>\n",
       "      <td>0</td>\n",
       "    </tr>\n",
       "    <tr>\n",
       "      <th>3</th>\n",
       "      <td>15603246</td>\n",
       "      <td>Female</td>\n",
       "      <td>27</td>\n",
       "      <td>57000</td>\n",
       "      <td>0</td>\n",
       "    </tr>\n",
       "    <tr>\n",
       "      <th>4</th>\n",
       "      <td>15804002</td>\n",
       "      <td>Male</td>\n",
       "      <td>19</td>\n",
       "      <td>76000</td>\n",
       "      <td>0</td>\n",
       "    </tr>\n",
       "    <tr>\n",
       "      <th>5</th>\n",
       "      <td>15728773</td>\n",
       "      <td>Male</td>\n",
       "      <td>27</td>\n",
       "      <td>58000</td>\n",
       "      <td>0</td>\n",
       "    </tr>\n",
       "    <tr>\n",
       "      <th>6</th>\n",
       "      <td>15598044</td>\n",
       "      <td>Female</td>\n",
       "      <td>27</td>\n",
       "      <td>84000</td>\n",
       "      <td>0</td>\n",
       "    </tr>\n",
       "    <tr>\n",
       "      <th>7</th>\n",
       "      <td>15694829</td>\n",
       "      <td>Female</td>\n",
       "      <td>32</td>\n",
       "      <td>150000</td>\n",
       "      <td>1</td>\n",
       "    </tr>\n",
       "    <tr>\n",
       "      <th>8</th>\n",
       "      <td>15600575</td>\n",
       "      <td>Male</td>\n",
       "      <td>25</td>\n",
       "      <td>33000</td>\n",
       "      <td>0</td>\n",
       "    </tr>\n",
       "    <tr>\n",
       "      <th>9</th>\n",
       "      <td>15727311</td>\n",
       "      <td>Female</td>\n",
       "      <td>35</td>\n",
       "      <td>65000</td>\n",
       "      <td>0</td>\n",
       "    </tr>\n",
       "  </tbody>\n",
       "</table>\n",
       "</div>"
      ],
      "text/plain": [
       "    User ID  Gender  Age  EstimatedSalary  Purchased\n",
       "0  15624510    Male   19            19000          0\n",
       "1  15810944    Male   35            20000          0\n",
       "2  15668575  Female   26            43000          0\n",
       "3  15603246  Female   27            57000          0\n",
       "4  15804002    Male   19            76000          0\n",
       "5  15728773    Male   27            58000          0\n",
       "6  15598044  Female   27            84000          0\n",
       "7  15694829  Female   32           150000          1\n",
       "8  15600575    Male   25            33000          0\n",
       "9  15727311  Female   35            65000          0"
      ]
     },
     "execution_count": 5,
     "metadata": {},
     "output_type": "execute_result"
    }
   ],
   "source": [
    "data.head(10)"
   ]
  },
  {
   "cell_type": "code",
   "execution_count": 6,
   "metadata": {},
   "outputs": [],
   "source": [
    "#split your dataset\n",
    "X = data.iloc[: , [2,3]].values\n",
    "y = data.iloc[:, 4].values"
   ]
  },
  {
   "cell_type": "code",
   "execution_count": 7,
   "metadata": {},
   "outputs": [
    {
     "data": {
      "text/plain": [
       "array([0, 0, 0, 0, 0, 0, 0, 1, 0, 0, 0, 0, 0, 0, 0, 0, 1, 1, 1, 1, 1, 1,\n",
       "       1, 1, 1, 1, 1, 1, 0, 0, 0, 1, 0, 0, 0, 0, 0, 0, 0, 0, 0, 0, 0, 0,\n",
       "       0, 0, 0, 0, 1, 0, 0, 0, 0, 0, 0, 0, 0, 0, 0, 0, 0, 0, 0, 1, 0, 0,\n",
       "       0, 0, 0, 0, 0, 0, 0, 0, 0, 1, 0, 0, 0, 0, 0, 0, 0, 0, 0, 1, 0, 0,\n",
       "       0, 0, 0, 0, 0, 0, 0, 0, 0, 1, 0, 0, 0, 0, 0, 1, 0, 0, 0, 0, 0, 0,\n",
       "       0, 0, 0, 0, 0, 0, 0, 0, 0, 0, 0, 0, 0, 0, 0, 0, 0, 0, 0, 0, 0, 0,\n",
       "       0, 0, 0, 0, 0, 1, 0, 0, 0, 0, 0, 0, 0, 0, 1, 0, 0, 0, 0, 0, 0, 0,\n",
       "       0, 0, 0, 0, 0, 1, 1, 0, 0, 0, 0, 0, 0, 0, 1, 0, 0, 0, 0, 0, 0, 0,\n",
       "       0, 0, 0, 0, 0, 0, 1, 0, 0, 0, 0, 0, 0, 0, 0, 0, 0, 0, 0, 0, 0, 0,\n",
       "       0, 0, 0, 0, 1, 0, 1, 0, 1, 0, 1, 0, 1, 1, 0, 0, 0, 1, 0, 0, 0, 1,\n",
       "       0, 1, 1, 1, 0, 0, 1, 1, 0, 1, 1, 0, 1, 1, 0, 1, 0, 0, 0, 1, 1, 0,\n",
       "       1, 1, 0, 1, 0, 1, 0, 1, 0, 0, 1, 1, 0, 1, 0, 0, 1, 1, 0, 1, 1, 0,\n",
       "       1, 1, 0, 0, 1, 0, 0, 1, 1, 1, 1, 1, 0, 1, 1, 1, 1, 0, 1, 1, 0, 1,\n",
       "       0, 1, 0, 1, 1, 1, 1, 0, 0, 0, 1, 1, 0, 1, 1, 1, 1, 1, 0, 0, 0, 1,\n",
       "       1, 0, 0, 1, 0, 1, 0, 1, 1, 0, 1, 0, 1, 1, 0, 1, 1, 0, 0, 0, 1, 1,\n",
       "       0, 1, 0, 0, 1, 0, 1, 0, 0, 1, 1, 0, 0, 1, 1, 0, 1, 1, 0, 0, 1, 0,\n",
       "       1, 0, 1, 1, 1, 0, 1, 0, 1, 1, 1, 0, 1, 1, 1, 1, 0, 1, 1, 1, 0, 1,\n",
       "       0, 1, 0, 0, 1, 1, 0, 1, 1, 1, 1, 1, 1, 0, 1, 1, 1, 1, 1, 1, 0, 1,\n",
       "       1, 1, 0, 1])"
      ]
     },
     "execution_count": 7,
     "metadata": {},
     "output_type": "execute_result"
    }
   ],
   "source": [
    "y"
   ]
  },
  {
   "cell_type": "code",
   "execution_count": 8,
   "metadata": {},
   "outputs": [],
   "source": [
    "#prepare data for training and test\n",
    "from sklearn.model_selection import train_test_split"
   ]
  },
  {
   "cell_type": "code",
   "execution_count": 9,
   "metadata": {},
   "outputs": [],
   "source": [
    "X_train, X_test, y_train, y_test = train_test_split(X, y, test_size=0.2)"
   ]
  },
  {
   "cell_type": "code",
   "execution_count": 10,
   "metadata": {},
   "outputs": [
    {
     "data": {
      "text/plain": [
       "array([0, 0, 0, 0, 0, 1, 0, 0, 0, 1, 0, 0, 0, 0, 0, 0, 1, 1, 0, 0, 1, 0,\n",
       "       0, 0, 1, 1, 0, 0, 1, 0, 1, 1, 0, 0, 1, 1, 0, 0, 0, 0, 0, 1, 1, 0,\n",
       "       0, 0, 1, 0, 1, 0, 0, 1, 0, 0, 0, 0, 0, 0, 1, 1, 0, 0, 1, 1, 1, 1,\n",
       "       0, 1, 0, 0, 1, 1, 0, 0, 1, 0, 0, 0, 0, 0])"
      ]
     },
     "execution_count": 10,
     "metadata": {},
     "output_type": "execute_result"
    }
   ],
   "source": [
    "y_test"
   ]
  },
  {
   "cell_type": "code",
   "execution_count": 11,
   "metadata": {},
   "outputs": [
    {
     "data": {
      "text/plain": [
       "array([[    22,  81000],\n",
       "       [    24,  55000],\n",
       "       [    29,  47000],\n",
       "       [    31,  18000],\n",
       "       [    35,  22000],\n",
       "       [    46,  88000],\n",
       "       [    27,  31000],\n",
       "       [    46,  82000],\n",
       "       [    28,  79000],\n",
       "       [    47,  50000],\n",
       "       [    42,  64000],\n",
       "       [    40,  57000],\n",
       "       [    36,  54000],\n",
       "       [    39,  77000],\n",
       "       [    40,  78000],\n",
       "       [    26,  81000],\n",
       "       [    53,  72000],\n",
       "       [    47, 107000],\n",
       "       [    35,  65000],\n",
       "       [    31,  34000],\n",
       "       [    42, 149000],\n",
       "       [    26,  15000],\n",
       "       [    40,  57000],\n",
       "       [    47,  43000],\n",
       "       [    37,  79000],\n",
       "       [    39, 134000],\n",
       "       [    24,  27000],\n",
       "       [    48, 141000],\n",
       "       [    37,  70000],\n",
       "       [    31,  68000],\n",
       "       [    36, 144000],\n",
       "       [    32, 117000],\n",
       "       [    31,  71000],\n",
       "       [    21,  72000],\n",
       "       [    29, 148000],\n",
       "       [    49,  36000],\n",
       "       [    38,  50000],\n",
       "       [    30,  89000],\n",
       "       [    25,  33000],\n",
       "       [    42,  80000],\n",
       "       [    35,  60000],\n",
       "       [    60, 102000],\n",
       "       [    45,  32000],\n",
       "       [    36,  33000],\n",
       "       [    40,  65000],\n",
       "       [    20,  36000],\n",
       "       [    32, 150000],\n",
       "       [    35,  47000],\n",
       "       [    48, 134000],\n",
       "       [    35,  61000],\n",
       "       [    37,  53000],\n",
       "       [    47, 105000],\n",
       "       [    24,  32000],\n",
       "       [    41,  72000],\n",
       "       [    19,  85000],\n",
       "       [    26,  30000],\n",
       "       [    28,  59000],\n",
       "       [    37,  62000],\n",
       "       [    32, 120000],\n",
       "       [    37,  93000],\n",
       "       [    38,  51000],\n",
       "       [    20,  23000],\n",
       "       [    42, 108000],\n",
       "       [    30, 135000],\n",
       "       [    36, 118000],\n",
       "       [    56,  60000],\n",
       "       [    38,  71000],\n",
       "       [    31, 118000],\n",
       "       [    46,  96000],\n",
       "       [    29,  43000],\n",
       "       [    47,  30000],\n",
       "       [    37, 137000],\n",
       "       [    38, 112000],\n",
       "       [    38,  71000],\n",
       "       [    47, 113000],\n",
       "       [    40,  75000],\n",
       "       [    26,  17000],\n",
       "       [    33,  51000],\n",
       "       [    22,  27000],\n",
       "       [    26,  35000]])"
      ]
     },
     "execution_count": 11,
     "metadata": {},
     "output_type": "execute_result"
    }
   ],
   "source": [
    "X_test"
   ]
  },
  {
   "cell_type": "code",
   "execution_count": 12,
   "metadata": {},
   "outputs": [
    {
     "name": "stderr",
     "output_type": "stream",
     "text": [
      "/Users/wizcounsel/anaconda3/lib/python3.7/site-packages/sklearn/utils/validation.py:595: DataConversionWarning: Data with input dtype int64 was converted to float64 by StandardScaler.\n",
      "  warnings.warn(msg, DataConversionWarning)\n",
      "/Users/wizcounsel/anaconda3/lib/python3.7/site-packages/sklearn/utils/validation.py:595: DataConversionWarning: Data with input dtype int64 was converted to float64 by StandardScaler.\n",
      "  warnings.warn(msg, DataConversionWarning)\n",
      "/Users/wizcounsel/anaconda3/lib/python3.7/site-packages/sklearn/utils/validation.py:595: DataConversionWarning: Data with input dtype int64 was converted to float64 by StandardScaler.\n",
      "  warnings.warn(msg, DataConversionWarning)\n"
     ]
    }
   ],
   "source": [
    "#Feature scaling\n",
    "from sklearn.preprocessing import StandardScaler\n",
    "sc = StandardScaler()\n",
    "X_train = sc.fit_transform(X_train)\n",
    "X_test = sc.transform(X_test)"
   ]
  },
  {
   "cell_type": "code",
   "execution_count": 13,
   "metadata": {},
   "outputs": [
    {
     "data": {
      "text/plain": [
       "array([[ 1.0074277 , -0.12222954],\n",
       "       [ 1.19270176,  2.29623593],\n",
       "       [ 1.93379799,  2.20666313],\n",
       "       [ 0.0810574 ,  0.11663124],\n",
       "       [-0.28949072, -0.57009352],\n",
       "       [-0.01157963, -0.12222954],\n",
       "       [ 1.10006473, -0.74923911],\n",
       "       [-0.28949072,  0.11663124],\n",
       "       [ 0.91479067,  0.14648884],\n",
       "       [-0.28949072, -1.25681828],\n",
       "       [ 0.0810574 ,  0.05691605],\n",
       "       [ 0.91479067,  1.84837195],\n",
       "       [-0.93794992,  1.60951116],\n",
       "       [ 1.93379799,  0.20620404],\n",
       "       [-1.67904616,  0.50478002],\n",
       "       [ 0.72951661, -1.22696068],\n",
       "       [ 1.28533879,  1.34079278],\n",
       "       [-0.28949072,  0.17634644],\n",
       "       [-0.56740181,  0.9227864 ],\n",
       "       [-0.47476478, -0.8388119 ],\n",
       "       [ 1.0074277 , -0.8985271 ],\n",
       "       [-0.28949072,  0.08677365],\n",
       "       [-1.03058695,  0.62421042],\n",
       "       [-0.10421666,  2.29623593],\n",
       "       [-0.84531289,  0.32563443],\n",
       "       [-0.66003884,  0.59435282],\n",
       "       [-0.10421666, -0.42080553],\n",
       "       [ 1.56324987,  1.81851435],\n",
       "       [-1.40113507, -1.46582147],\n",
       "       [-0.75267587, -1.55539427],\n",
       "       [-0.01157963, -0.30137513],\n",
       "       [-0.19685369, -0.18194474],\n",
       "       [-0.84531289, -0.24165994],\n",
       "       [-0.28949072,  0.08677365],\n",
       "       [-0.28949072, -0.9283847 ],\n",
       "       [ 0.72951661, -1.40610627],\n",
       "       [ 0.0810574 ,  1.57965357],\n",
       "       [-1.4937721 , -0.42080553],\n",
       "       [ 0.72951661, -1.10753029],\n",
       "       [-1.12322398, -1.10753029],\n",
       "       [-0.75267587,  0.53463762],\n",
       "       [ 0.0810574 ,  0.29577683],\n",
       "       [-0.01157963, -0.57009352],\n",
       "       [-0.01157963, -0.24165994],\n",
       "       [-0.84531289, -1.22696068],\n",
       "       [-0.66003884, -0.33123273],\n",
       "       [-0.38212775,  0.08677365],\n",
       "       [-0.28949072,  0.65406801],\n",
       "       [-1.40113507, -0.09237195],\n",
       "       [-0.10421666,  0.26591924],\n",
       "       [-0.28949072, -0.30137513],\n",
       "       [ 1.84116096, -0.65966631],\n",
       "       [-0.10421666,  2.23652073],\n",
       "       [ 0.17369443,  0.05691605],\n",
       "       [ 0.26633146, -0.30137513],\n",
       "       [-1.86432022,  0.50478002],\n",
       "       [-1.12322398, -1.61510946],\n",
       "       [-1.03058695, -0.45066313],\n",
       "       [-0.93794992, -0.9582423 ],\n",
       "       [ 0.35896849,  0.17634644],\n",
       "       [ 1.28533879,  2.05737514],\n",
       "       [ 1.93379799, -0.80895431],\n",
       "       [ 1.56324987,  1.66922636],\n",
       "       [ 0.0810574 ,  1.10193199],\n",
       "       [-1.86432022, -0.51037832],\n",
       "       [ 0.82215364, -1.37624868],\n",
       "       [-1.03058695, -0.33123273],\n",
       "       [-0.01157963,  0.32563443],\n",
       "       [ 0.54424255, -0.8985271 ],\n",
       "       [-0.28949072,  2.32609352],\n",
       "       [-0.28949072, -0.48052072],\n",
       "       [-1.67904616,  0.38534963],\n",
       "       [-0.10421666,  0.32563443],\n",
       "       [ 0.72951661,  0.14648884],\n",
       "       [-1.30849804, -0.42080553],\n",
       "       [-1.30849804, -1.49567907],\n",
       "       [ 0.0810574 , -0.24165994],\n",
       "       [-1.67904616,  0.14648884],\n",
       "       [ 1.74852393,  1.57965357],\n",
       "       [-0.01157963,  1.31093518],\n",
       "       [-0.28949072, -0.33123273],\n",
       "       [ 2.02643502, -0.80895431],\n",
       "       [ 0.63687958, -1.40610627],\n",
       "       [ 0.26633146, -0.18194474],\n",
       "       [-1.86432022,  0.38534963],\n",
       "       [-0.47476478,  1.31093518],\n",
       "       [ 0.91479067, -1.07767269],\n",
       "       [-0.75267587,  1.13178959],\n",
       "       [ 0.72951661, -1.37624868],\n",
       "       [-0.56740181,  1.43036557],\n",
       "       [ 1.10006473, -0.9880999 ],\n",
       "       [ 1.74852393, -1.28667588],\n",
       "       [ 0.35896849, -0.48052072],\n",
       "       [-0.66003884,  0.14648884],\n",
       "       [-1.03058695,  0.56449522],\n",
       "       [-0.38212775, -1.31653348],\n",
       "       [-1.4937721 , -0.18194474],\n",
       "       [-1.21586101,  0.29577683],\n",
       "       [ 2.02643502, -0.80895431],\n",
       "       [-1.77168319, -1.49567907],\n",
       "       [-1.12322398,  0.32563443],\n",
       "       [-0.10421666,  0.08677365],\n",
       "       [-0.28949072, -0.57009352],\n",
       "       [ 1.28533879, -1.43596387],\n",
       "       [-0.28949072, -1.31653348],\n",
       "       [ 0.91479067,  1.49008077],\n",
       "       [-1.03058695, -0.36109033],\n",
       "       [ 0.17369443, -0.30137513],\n",
       "       [-1.77168319,  0.02705845],\n",
       "       [-1.67904616,  0.38534963],\n",
       "       [ 0.17369443, -0.36109033],\n",
       "       [-0.38212775, -0.77909671],\n",
       "       [ 0.35896849, -0.12222954],\n",
       "       [ 0.35896849,  0.29577683],\n",
       "       [-1.86432022, -0.03265675],\n",
       "       [ 2.02643502,  1.16164719],\n",
       "       [ 0.26633146, -0.54023592],\n",
       "       [-0.84531289,  0.41520723],\n",
       "       [-0.19685369,  0.17634644],\n",
       "       [ 0.45160552,  1.28107758],\n",
       "       [-0.56740181, -1.52553667],\n",
       "       [-1.58640913, -1.58525186],\n",
       "       [ 1.0074277 ,  0.50478002],\n",
       "       [ 1.74852393,  0.14648884],\n",
       "       [-0.93794992, -0.42080553],\n",
       "       [-0.19685369, -0.27151754],\n",
       "       [-1.21586101,  0.53463762],\n",
       "       [ 1.84116096,  0.77349841],\n",
       "       [ 0.0810574 , -0.30137513],\n",
       "       [ 1.37797581, -1.04781509],\n",
       "       [ 1.74852393, -1.07767269],\n",
       "       [ 2.02643502,  0.41520723],\n",
       "       [ 0.26633146,  0.08677365],\n",
       "       [ 0.17369443,  0.17634644],\n",
       "       [ 0.26633146,  0.53463762],\n",
       "       [ 1.47061284,  1.16164719],\n",
       "       [ 0.35896849,  0.32563443],\n",
       "       [ 0.35896849,  0.11663124],\n",
       "       [ 0.17369443, -0.27151754],\n",
       "       [-0.84531289,  0.17634644],\n",
       "       [-0.19685369, -0.57009352],\n",
       "       [ 1.19270176,  1.93794475],\n",
       "       [-0.93794992, -0.30137513],\n",
       "       [-0.19685369,  1.66922636],\n",
       "       [-1.03058695, -1.46582147],\n",
       "       [-1.12322398, -1.58525186],\n",
       "       [-0.28949072,  0.56449522],\n",
       "       [-0.47476478, -0.00279915],\n",
       "       [-0.75267587,  0.32563443],\n",
       "       [ 0.26633146, -0.51037832],\n",
       "       [ 0.82215364, -1.04781509],\n",
       "       [ 0.82215364, -0.65966631],\n",
       "       [ 0.0810574 , -0.80895431],\n",
       "       [-0.01157963, -0.42080553],\n",
       "       [-0.10421666,  0.14648884],\n",
       "       [ 1.84116096,  0.952644  ],\n",
       "       [ 0.91479067, -1.07767269],\n",
       "       [-1.77168319, -1.28667588],\n",
       "       [ 1.0074277 ,  0.14648884],\n",
       "       [ 0.35896849,  1.04221679],\n",
       "       [ 1.37797581,  2.20666313],\n",
       "       [ 1.93379799,  0.56449522],\n",
       "       [-1.21586101, -1.40610627],\n",
       "       [-0.28949072,  0.83321361],\n",
       "       [ 0.0810574 ,  0.05691605],\n",
       "       [-1.77168319, -1.31653348],\n",
       "       [-0.93794992, -0.74923911],\n",
       "       [-1.30849804, -0.33123273],\n",
       "       [-0.19685369, -0.51037832],\n",
       "       [-0.28949072, -0.74923911],\n",
       "       [ 0.91479067, -1.16724549],\n",
       "       [ 0.17369443, -0.65966631],\n",
       "       [ 0.26633146,  0.05691605],\n",
       "       [ 0.35896849, -0.45066313],\n",
       "       [ 0.63687958, -1.28667588],\n",
       "       [-0.56740181, -1.52553667],\n",
       "       [-1.58640913, -0.03265675],\n",
       "       [ 1.93379799,  0.41520723],\n",
       "       [ 1.47061284, -1.28667588],\n",
       "       [-0.38212775,  1.37065038],\n",
       "       [ 0.26633146, -0.71938151],\n",
       "       [ 0.0810574 ,  1.93794475],\n",
       "       [ 1.0074277 , -1.22696068],\n",
       "       [-0.10421666, -1.07767269],\n",
       "       [-1.77168319, -1.43596387],\n",
       "       [ 0.63687958,  0.29577683],\n",
       "       [-1.03058695, -1.55539427],\n",
       "       [-1.40113507, -0.18194474],\n",
       "       [ 0.82215364,  2.23652073],\n",
       "       [-0.10421666, -0.36109033],\n",
       "       [-1.40113507, -0.62980872],\n",
       "       [ 1.93379799, -1.19710309],\n",
       "       [-0.10421666,  0.32563443],\n",
       "       [ 1.28533879, -0.9283847 ],\n",
       "       [ 1.56324987, -0.8985271 ],\n",
       "       [ 2.02643502, -0.68952391],\n",
       "       [-0.47476478, -1.22696068],\n",
       "       [ 0.45160552,  1.90808715],\n",
       "       [ 0.91479067,  0.80335601],\n",
       "       [-0.66003884, -1.61510946],\n",
       "       [-1.86432022, -0.74923911],\n",
       "       [ 1.6558869 ,  1.04221679],\n",
       "       [ 1.84116096, -0.9283847 ],\n",
       "       [-1.12322398, -0.51037832],\n",
       "       [ 0.17369443,  0.08677365],\n",
       "       [ 0.0810574 , -0.80895431],\n",
       "       [-1.12322398, -0.77909671],\n",
       "       [-1.03058695,  0.80335601],\n",
       "       [-0.38212775,  1.28107758],\n",
       "       [-1.03058695,  2.02751754],\n",
       "       [-1.12322398,  0.32563443],\n",
       "       [-0.28949072, -0.36109033],\n",
       "       [ 0.82215364, -0.59995112],\n",
       "       [ 0.91479067, -1.0179575 ],\n",
       "       [-1.03058695,  0.59435282],\n",
       "       [ 2.02643502, -1.04781509],\n",
       "       [-0.84531289, -0.77909671],\n",
       "       [ 0.26633146, -0.27151754],\n",
       "       [ 0.17369443,  1.13178959],\n",
       "       [-1.40113507,  0.38534963],\n",
       "       [-0.47476478, -0.27151754],\n",
       "       [ 1.37797581,  0.38534963],\n",
       "       [ 0.26633146,  0.08677365],\n",
       "       [ 0.54424255,  2.08723274],\n",
       "       [-0.47476478,  2.38580872],\n",
       "       [-0.75267587,  1.40050797],\n",
       "       [ 1.37797581,  1.04221679],\n",
       "       [ 0.35896849, -0.12222954],\n",
       "       [-1.12322398,  0.50478002],\n",
       "       [ 0.72951661,  1.43036557],\n",
       "       [ 1.0074277 , -1.22696068],\n",
       "       [ 1.0074277 ,  0.59435282],\n",
       "       [ 0.82215364, -1.46582147],\n",
       "       [-1.40113507, -1.22696068],\n",
       "       [ 0.35896849,  0.62421042],\n",
       "       [-0.28949072,  0.23606164],\n",
       "       [-0.28949072,  0.29577683],\n",
       "       [ 1.6558869 ,  1.90808715],\n",
       "       [-0.28949072, -1.46582147],\n",
       "       [ 0.17369443,  2.17680553],\n",
       "       [-0.19685369,  0.8929288 ],\n",
       "       [ 0.26633146, -0.51037832],\n",
       "       [-0.47476478, -1.13738789],\n",
       "       [-0.19685369,  1.69908396],\n",
       "       [-0.10421666,  0.05691605],\n",
       "       [ 0.17369443, -0.24165994],\n",
       "       [ 0.72951661, -0.30137513],\n",
       "       [-0.93794992,  0.47492242],\n",
       "       [ 1.10006473,  0.56449522],\n",
       "       [ 0.0810574 ,  0.17634644],\n",
       "       [-1.4937721 , -1.52553667],\n",
       "       [ 0.26633146,  0.08677365],\n",
       "       [ 1.93379799,  1.81851435],\n",
       "       [-0.28949072,  0.05691605],\n",
       "       [ 1.10006473, -1.46582147],\n",
       "       [ 1.28533879,  0.62421042],\n",
       "       [ 0.82215364, -1.31653348],\n",
       "       [-0.56740181,  0.50478002],\n",
       "       [ 0.35896849, -0.45066313],\n",
       "       [ 0.91479067,  0.62421042],\n",
       "       [-0.38212775, -0.77909671],\n",
       "       [ 0.35896849,  0.02705845],\n",
       "       [-0.10421666,  0.17634644],\n",
       "       [ 1.84116096,  2.23652073],\n",
       "       [-0.56740181,  1.96780234],\n",
       "       [-0.01157963, -0.24165994],\n",
       "       [ 0.91479067,  2.05737514],\n",
       "       [-0.28949072, -0.8985271 ],\n",
       "       [ 0.26633146, -1.16724549],\n",
       "       [ 1.47061284,  0.02705845],\n",
       "       [ 0.63687958,  1.84837195],\n",
       "       [ 1.74852393, -0.27151754],\n",
       "       [-1.30849804,  0.44506483],\n",
       "       [-1.77168319,  0.20620404],\n",
       "       [-1.12322398,  0.44506483],\n",
       "       [-0.93794992,  0.59435282],\n",
       "       [-1.12322398,  1.46022317],\n",
       "       [-0.28949072,  0.17634644],\n",
       "       [ 0.45160552,  1.78865675],\n",
       "       [ 0.26633146,  0.29577683],\n",
       "       [-1.67904616, -0.59995112],\n",
       "       [ 1.19270176, -1.37624868],\n",
       "       [ 0.63687958, -1.40610627],\n",
       "       [-1.03058695,  0.44506483],\n",
       "       [-1.12322398,  0.08677365],\n",
       "       [ 1.47061284,  1.04221679],\n",
       "       [ 1.84116096, -1.37624868],\n",
       "       [ 1.0074277 ,  0.56449522],\n",
       "       [ 1.0074277 ,  2.14694793],\n",
       "       [-0.93794992, -1.10753029],\n",
       "       [ 0.91479067, -0.8388119 ],\n",
       "       [-0.28949072, -1.37624868],\n",
       "       [ 0.72951661, -0.8388119 ],\n",
       "       [-0.66003884, -0.09237195],\n",
       "       [-0.10421666,  0.23606164],\n",
       "       [ 0.26633146,  0.32563443],\n",
       "       [-0.10421666, -0.51037832],\n",
       "       [-1.58640913,  0.56449522],\n",
       "       [-0.66003884,  0.20620404],\n",
       "       [-0.28949072,  1.16164719],\n",
       "       [-0.47476478, -0.77909671],\n",
       "       [-0.93794992,  0.53463762],\n",
       "       [ 0.72951661,  0.29577683],\n",
       "       [-0.28949072, -0.42080553],\n",
       "       [-1.30849804, -1.37624868],\n",
       "       [-0.75267587,  0.29577683],\n",
       "       [-1.21586101,  0.32563443],\n",
       "       [ 1.28533879,  2.41566632],\n",
       "       [-0.75267587, -0.59995112],\n",
       "       [-0.84531289,  0.41520723],\n",
       "       [-0.75267587, -1.61510946],\n",
       "       [ 0.91479067, -1.19710309],\n",
       "       [-1.21586101,  0.62421042],\n",
       "       [-1.30849804,  0.59435282],\n",
       "       [-1.03058695, -0.33123273],\n",
       "       [ 0.0810574 ,  0.80335601],\n",
       "       [-0.75267587, -0.21180234],\n",
       "       [ 0.63687958, -0.71938151],\n",
       "       [-0.93794992,  0.44506483],\n",
       "       [ 0.82215364, -0.54023592]])"
      ]
     },
     "execution_count": 13,
     "metadata": {},
     "output_type": "execute_result"
    }
   ],
   "source": [
    "X_train"
   ]
  },
  {
   "cell_type": "code",
   "execution_count": 14,
   "metadata": {},
   "outputs": [],
   "source": [
    "#Move to KNN Algorithm\n",
    "from sklearn.neighbors import KNeighborsClassifier"
   ]
  },
  {
   "cell_type": "code",
   "execution_count": 15,
   "metadata": {},
   "outputs": [
    {
     "data": {
      "text/plain": [
       "KNeighborsClassifier(algorithm='auto', leaf_size=30, metric='minkowski',\n",
       "           metric_params=None, n_jobs=None, n_neighbors=5, p=2,\n",
       "           weights='uniform')"
      ]
     },
     "execution_count": 15,
     "metadata": {},
     "output_type": "execute_result"
    }
   ],
   "source": [
    "classifier = KNeighborsClassifier(n_neighbors=5)\n",
    "classifier.fit(X_train, y_train)"
   ]
  },
  {
   "cell_type": "code",
   "execution_count": 16,
   "metadata": {},
   "outputs": [],
   "source": [
    "#get your predictor\n",
    "y_predictor = classifier.predict(X_test)"
   ]
  },
  {
   "cell_type": "code",
   "execution_count": 17,
   "metadata": {},
   "outputs": [
    {
     "data": {
      "text/plain": [
       "array([0, 0, 0, 0, 0, 1, 0, 1, 0, 1, 0, 0, 0, 0, 0, 0, 1, 1, 0, 0, 1, 0,\n",
       "       0, 1, 0, 1, 0, 1, 0, 0, 1, 0, 0, 0, 1, 1, 0, 0, 0, 0, 0, 1, 1, 0,\n",
       "       0, 0, 1, 0, 1, 0, 0, 1, 0, 0, 0, 0, 0, 0, 0, 1, 0, 0, 1, 1, 1, 1,\n",
       "       0, 0, 1, 0, 1, 1, 1, 0, 1, 0, 0, 0, 0, 0])"
      ]
     },
     "execution_count": 17,
     "metadata": {},
     "output_type": "execute_result"
    }
   ],
   "source": [
    "y_predictor"
   ]
  },
  {
   "cell_type": "code",
   "execution_count": 18,
   "metadata": {},
   "outputs": [],
   "source": [
    "# In classifiers, you will be creating a confusion matrix a lot\n",
    "from sklearn.metrics import confusion_matrix"
   ]
  },
  {
   "cell_type": "code",
   "execution_count": 19,
   "metadata": {},
   "outputs": [],
   "source": [
    "cm = confusion_matrix(y_test, y_predictor)"
   ]
  },
  {
   "cell_type": "code",
   "execution_count": 20,
   "metadata": {},
   "outputs": [
    {
     "data": {
      "text/plain": [
       "array([[48,  5],\n",
       "       [ 5, 22]])"
      ]
     },
     "execution_count": 20,
     "metadata": {},
     "output_type": "execute_result"
    }
   ],
   "source": [
    "cm"
   ]
  },
  {
   "cell_type": "code",
   "execution_count": 21,
   "metadata": {},
   "outputs": [],
   "source": [
    "%matplotlib inline"
   ]
  },
  {
   "cell_type": "code",
   "execution_count": 22,
   "metadata": {},
   "outputs": [
    {
     "name": "stderr",
     "output_type": "stream",
     "text": [
      "'c' argument looks like a single numeric RGB or RGBA sequence, which should be avoided as value-mapping will have precedence in case its length matches with 'x' & 'y'.  Please use a 2-D array with a single row if you really want to specify the same RGB or RGBA value for all points.\n",
      "'c' argument looks like a single numeric RGB or RGBA sequence, which should be avoided as value-mapping will have precedence in case its length matches with 'x' & 'y'.  Please use a 2-D array with a single row if you really want to specify the same RGB or RGBA value for all points.\n"
     ]
    },
    {
     "data": {
      "text/plain": [
       "<matplotlib.legend.Legend at 0x1a278a3908>"
      ]
     },
     "execution_count": 22,
     "metadata": {},
     "output_type": "execute_result"
    },
    {
     "data": {
      "image/png": "[encoded data removed]",
      "text/plain": [
       "<Figure size 432x288 with 1 Axes>"
      ]
     },
     "metadata": {
      "needs_background": "light"
     },
     "output_type": "display_data"
    }
   ],
   "source": [
    "# for plotting a graph\n",
    "# Visualising the Training set results\n",
    "from matplotlib.colors import ListedColormap\n",
    "X_point, y_point = X_train, y_train\n",
    "X1, X2 = np.meshgrid(np.arange(start = X_point[:, 0].min() - 1, stop = X_point[:, 0].max() + 1, step = 0.01),\n",
    "                     np.arange(start = X_point[:, 1].min() - 1, stop = X_point[:, 1].max() + 1, step = 0.01))\n",
    "plt.contourf(X1, X2, classifier.predict(np.array([X1.ravel(), X2.ravel()]).T).reshape(X1.shape),\n",
    "             alpha = 0.75, cmap = ListedColormap(('green', 'blue')))\n",
    "plt.xlim(X1.min(), X1.max())\n",
    "plt.ylim(X2.min(), X2.max())\n",
    "for i, j in enumerate(np.unique(y_point)):\n",
    "    plt.scatter(X_point[y_point == j, 0], X_point[y_point == j, 1],\n",
    "                c = ListedColormap(('green', 'blue'))(i), label = j)\n",
    "plt.title('K-NN Training set')\n",
    "plt.xlabel('Age')\n",
    "plt.ylabel('Salary')\n",
    "plt.legend()"
   ]
  },
  {
   "cell_type": "code",
   "execution_count": 23,
   "metadata": {},
   "outputs": [
    {
     "name": "stderr",
     "output_type": "stream",
     "text": [
      "'c' argument looks like a single numeric RGB or RGBA sequence, which should be avoided as value-mapping will have precedence in case its length matches with 'x' & 'y'.  Please use a 2-D array with a single row if you really want to specify the same RGB or RGBA value for all points.\n",
      "'c' argument looks like a single numeric RGB or RGBA sequence, which should be avoided as value-mapping will have precedence in case its length matches with 'x' & 'y'.  Please use a 2-D array with a single row if you really want to specify the same RGB or RGBA value for all points.\n"
     ]
    },
    {
     "data": {
      "text/plain": [
       "<matplotlib.legend.Legend at 0x10f1cee48>"
      ]
     },
     "execution_count": 23,
     "metadata": {},
     "output_type": "execute_result"
    },
    {
     "data": {
      "image/png": "[encoded data removed]",
      "text/plain": [
       "<Figure size 432x288 with 1 Axes>"
      ]
     },
     "metadata": {
      "needs_background": "light"
     },
     "output_type": "display_data"
    }
   ],
   "source": [
    "from matplotlib.colors import ListedColormap\n",
    "X_point, y_point = X_test, y_test\n",
    "X1, X2 = np.meshgrid(np.arange(start = X_point[:, 0].min() - 1, stop = X_point[:, 0].max() + 1, step = 0.01),\n",
    "                     np.arange(start = X_point[:, 1].min() - 1, stop = X_point[:, 1].max() + 1, step = 0.01))\n",
    "plt.contourf(X1, X2, classifier.predict(np.array([X1.ravel(), X2.ravel()]).T).reshape(X1.shape),\n",
    "             alpha = 0.75, cmap = ListedColormap(('green', 'blue')))\n",
    "plt.xlim(X1.min(), X1.max())\n",
    "plt.ylim(X2.min(), X2.max())\n",
    "for i, j in enumerate(np.unique(y_point)):\n",
    "    plt.scatter(X_point[y_point == j, 0], X_point[y_point == j, 1],\n",
    "                c = ListedColormap(('green', 'blue'))(i), label = j)\n",
    "plt.title('K-NN Training set')\n",
    "plt.xlabel('Age')\n",
    "plt.ylabel('Salary')\n",
    "plt.legend()"
   ]
  },
  {
   "cell_type": "code",
   "execution_count": null,
   "metadata": {},
   "outputs": [],
   "source": []
  }
 ],
 "metadata": {
  "kernelspec": {
   "display_name": "Python 3",
   "language": "python",
   "name": "python3"
  },
  "language_info": {
   "codemirror_mode": {
    "name": "ipython",
    "version": 3
   },
   "file_extension": ".py",
   "mimetype": "text/x-python",
   "name": "python",
   "nbconvert_exporter": "python",
   "pygments_lexer": "ipython3",
   "version": "3.7.1"
  }
 },
 "nbformat": 4,
 "nbformat_minor": 2
}
